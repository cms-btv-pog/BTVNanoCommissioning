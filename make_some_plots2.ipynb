{
 "cells": [
  {
   "cell_type": "code",
   "execution_count": 26,
   "metadata": {},
   "outputs": [],
   "source": [
    "import numpy as np\n",
    "import matplotlib.pyplot as plt\n",
    "from matplotlib.offsetbox import AnchoredText\n",
    "import mplhep as hep\n",
    "from coffea.util import load\n",
    "from coffea.hist import plot\n",
    "import coffea.hist as hist\n",
    "import re"
   ]
  },
  {
   "cell_type": "code",
   "execution_count": 77,
   "metadata": {},
   "outputs": [],
   "source": [
    "output = load('hists_ttcom_temp.coffea')"
   ]
  },
  {
   "cell_type": "code",
   "execution_count": 91,
   "metadata": {
    "scrolled": false
   },
   "outputs": [
    {
     "ename": "ValueError",
     "evalue": "Reducing along axis <Bin (name=jet_pt) instance at 0x7f6bf3585bd0>: requested start 0.44 exceeds bin boundaries (use open slicing, e.g. x[:stop])",
     "output_type": "error",
     "traceback": [
      "\u001b[0;31m---------------------------------------------------------------------------\u001b[0m",
      "\u001b[0;31mValueError\u001b[0m                                Traceback (most recent call last)",
      "\u001b[0;32m<ipython-input-91-3b7d2a29c380>\u001b[0m in \u001b[0;36m<module>\u001b[0;34m\u001b[0m\n\u001b[1;32m     19\u001b[0m \u001b[0;31m# print(ixes[0])\u001b[0m\u001b[0;34m\u001b[0m\u001b[0;34m\u001b[0m\u001b[0;34m\u001b[0m\u001b[0m\n\u001b[1;32m     20\u001b[0m \u001b[0;31m# hl[0,4]\u001b[0m\u001b[0;34m\u001b[0m\u001b[0;34m\u001b[0m\u001b[0;34m\u001b[0m\u001b[0m\n\u001b[0;32m---> 21\u001b[0;31m \u001b[0mnum\u001b[0m\u001b[0;34m=\u001b[0m\u001b[0mhl\u001b[0m\u001b[0;34m[\u001b[0m\u001b[0;34m\"Data\"\u001b[0m\u001b[0;34m]\u001b[0m\u001b[0;34m.\u001b[0m\u001b[0mintegrate\u001b[0m\u001b[0;34m(\u001b[0m\u001b[0;34m'jet_pt'\u001b[0m\u001b[0;34m,\u001b[0m\u001b[0mslice\u001b[0m\u001b[0;34m(\u001b[0m\u001b[0;36m0.44\u001b[0m\u001b[0;34m,\u001b[0m\u001b[0;32mNone\u001b[0m\u001b[0;34m)\u001b[0m\u001b[0;34m)\u001b[0m\u001b[0;34m\u001b[0m\u001b[0;34m\u001b[0m\u001b[0m\n\u001b[0m\u001b[1;32m     22\u001b[0m \u001b[0;31m# print(num)\u001b[0m\u001b[0;34m\u001b[0m\u001b[0;34m\u001b[0m\u001b[0;34m\u001b[0m\u001b[0m\n\u001b[1;32m     23\u001b[0m \u001b[0mnum\u001b[0m\u001b[0;34m=\u001b[0m\u001b[0mnum\u001b[0m\u001b[0;34m.\u001b[0m\u001b[0mrebin\u001b[0m\u001b[0;34m(\u001b[0m\u001b[0;34m\"flav\"\u001b[0m\u001b[0;34m,\u001b[0m\u001b[0mhist\u001b[0m\u001b[0;34m.\u001b[0m\u001b[0mBin\u001b[0m\u001b[0;34m(\u001b[0m\u001b[0;34m\"flav\"\u001b[0m\u001b[0;34m,\u001b[0m \u001b[0;34m\"flav\"\u001b[0m\u001b[0;34m,\u001b[0m \u001b[0;34m[\u001b[0m\u001b[0;36m0\u001b[0m\u001b[0;34m,\u001b[0m\u001b[0;36m4\u001b[0m\u001b[0;34m,\u001b[0m\u001b[0;36m5\u001b[0m\u001b[0;34m,\u001b[0m\u001b[0;36m6\u001b[0m\u001b[0;34m]\u001b[0m\u001b[0;34m)\u001b[0m\u001b[0;34m)\u001b[0m\u001b[0;34m\u001b[0m\u001b[0;34m\u001b[0m\u001b[0m\n",
      "\u001b[0;32m~/.local/lib/python3.7/site-packages/coffea/hist/hist_tools.py\u001b[0m in \u001b[0;36mintegrate\u001b[0;34m(self, axis_name, int_range, overflow)\u001b[0m\n\u001b[1;32m   1092\u001b[0m             \u001b[0;32melif\u001b[0m \u001b[0mint_range\u001b[0m\u001b[0;34m.\u001b[0m\u001b[0mhi\u001b[0m \u001b[0;34m==\u001b[0m \u001b[0mnumpy\u001b[0m\u001b[0;34m.\u001b[0m\u001b[0minf\u001b[0m\u001b[0;34m:\u001b[0m\u001b[0;34m\u001b[0m\u001b[0;34m\u001b[0m\u001b[0m\n\u001b[1;32m   1093\u001b[0m                 \u001b[0moverflow\u001b[0m \u001b[0;34m=\u001b[0m \u001b[0;34m'over'\u001b[0m\u001b[0;34m\u001b[0m\u001b[0;34m\u001b[0m\u001b[0m\n\u001b[0;32m-> 1094\u001b[0;31m         \u001b[0;32mreturn\u001b[0m \u001b[0mself\u001b[0m\u001b[0;34m[\u001b[0m\u001b[0mfull_slice\u001b[0m\u001b[0;34m]\u001b[0m\u001b[0;34m.\u001b[0m\u001b[0msum\u001b[0m\u001b[0;34m(\u001b[0m\u001b[0maxis\u001b[0m\u001b[0;34m.\u001b[0m\u001b[0mname\u001b[0m\u001b[0;34m,\u001b[0m \u001b[0moverflow\u001b[0m\u001b[0;34m=\u001b[0m\u001b[0moverflow\u001b[0m\u001b[0;34m)\u001b[0m  \u001b[0;31m# slice may make new axis, use name\u001b[0m\u001b[0;34m\u001b[0m\u001b[0;34m\u001b[0m\u001b[0m\n\u001b[0m\u001b[1;32m   1095\u001b[0m \u001b[0;34m\u001b[0m\u001b[0m\n\u001b[1;32m   1096\u001b[0m     \u001b[0;32mdef\u001b[0m \u001b[0mremove\u001b[0m\u001b[0;34m(\u001b[0m\u001b[0mself\u001b[0m\u001b[0;34m,\u001b[0m \u001b[0mbins\u001b[0m\u001b[0;34m,\u001b[0m \u001b[0maxis\u001b[0m\u001b[0;34m)\u001b[0m\u001b[0;34m:\u001b[0m\u001b[0;34m\u001b[0m\u001b[0;34m\u001b[0m\u001b[0m\n",
      "\u001b[0;32m~/.local/lib/python3.7/site-packages/coffea/hist/hist_tools.py\u001b[0m in \u001b[0;36m__getitem__\u001b[0;34m(self, keys)\u001b[0m\n\u001b[1;32m    902\u001b[0m                 \u001b[0mnew_dims\u001b[0m\u001b[0;34m.\u001b[0m\u001b[0mappend\u001b[0m\u001b[0;34m(\u001b[0m\u001b[0max\u001b[0m\u001b[0;34m)\u001b[0m\u001b[0;34m\u001b[0m\u001b[0;34m\u001b[0m\u001b[0m\n\u001b[1;32m    903\u001b[0m             \u001b[0;32melse\u001b[0m\u001b[0;34m:\u001b[0m\u001b[0;34m\u001b[0m\u001b[0;34m\u001b[0m\u001b[0m\n\u001b[0;32m--> 904\u001b[0;31m                 \u001b[0mislice\u001b[0m \u001b[0;34m=\u001b[0m \u001b[0max\u001b[0m\u001b[0;34m.\u001b[0m\u001b[0m_ireduce\u001b[0m\u001b[0;34m(\u001b[0m\u001b[0ms\u001b[0m\u001b[0;34m)\u001b[0m\u001b[0;34m\u001b[0m\u001b[0;34m\u001b[0m\u001b[0m\n\u001b[0m\u001b[1;32m    905\u001b[0m                 \u001b[0mdense_idx\u001b[0m\u001b[0;34m.\u001b[0m\u001b[0mappend\u001b[0m\u001b[0;34m(\u001b[0m\u001b[0mislice\u001b[0m\u001b[0;34m)\u001b[0m\u001b[0;34m\u001b[0m\u001b[0;34m\u001b[0m\u001b[0m\n\u001b[1;32m    906\u001b[0m                 \u001b[0mnew_dims\u001b[0m\u001b[0;34m.\u001b[0m\u001b[0mappend\u001b[0m\u001b[0;34m(\u001b[0m\u001b[0max\u001b[0m\u001b[0;34m.\u001b[0m\u001b[0mreduced\u001b[0m\u001b[0;34m(\u001b[0m\u001b[0mislice\u001b[0m\u001b[0;34m)\u001b[0m\u001b[0;34m)\u001b[0m\u001b[0;34m\u001b[0m\u001b[0;34m\u001b[0m\u001b[0m\n",
      "\u001b[0;32m~/.local/lib/python3.7/site-packages/coffea/hist/hist_tools.py\u001b[0m in \u001b[0;36m_ireduce\u001b[0;34m(self, the_slice)\u001b[0m\n\u001b[1;32m    555\u001b[0m                 \u001b[0;32mif\u001b[0m \u001b[0mthe_slice\u001b[0m\u001b[0;34m.\u001b[0m\u001b[0mstart\u001b[0m \u001b[0;34m<\u001b[0m \u001b[0mself\u001b[0m\u001b[0;34m.\u001b[0m\u001b[0m_lo\u001b[0m\u001b[0;34m:\u001b[0m\u001b[0;34m\u001b[0m\u001b[0;34m\u001b[0m\u001b[0m\n\u001b[1;32m    556\u001b[0m                     raise ValueError(\"Reducing along axis %r: requested start %r exceeds bin boundaries (use open slicing, e.g. x[:stop])\" % (self,\n\u001b[0;32m--> 557\u001b[0;31m                                                                                                                                               the_slice.start))\n\u001b[0m\u001b[1;32m    558\u001b[0m                 \u001b[0;32mif\u001b[0m \u001b[0mself\u001b[0m\u001b[0;34m.\u001b[0m\u001b[0m_uniform\u001b[0m\u001b[0;34m:\u001b[0m\u001b[0;34m\u001b[0m\u001b[0;34m\u001b[0m\u001b[0m\n\u001b[1;32m    559\u001b[0m                     \u001b[0mblo_real\u001b[0m \u001b[0;34m=\u001b[0m \u001b[0;34m(\u001b[0m\u001b[0mthe_slice\u001b[0m\u001b[0;34m.\u001b[0m\u001b[0mstart\u001b[0m \u001b[0;34m-\u001b[0m \u001b[0mself\u001b[0m\u001b[0;34m.\u001b[0m\u001b[0m_lo\u001b[0m\u001b[0;34m)\u001b[0m \u001b[0;34m*\u001b[0m \u001b[0mself\u001b[0m\u001b[0;34m.\u001b[0m\u001b[0m_bins\u001b[0m \u001b[0;34m/\u001b[0m \u001b[0;34m(\u001b[0m\u001b[0mself\u001b[0m\u001b[0;34m.\u001b[0m\u001b[0m_hi\u001b[0m \u001b[0;34m-\u001b[0m \u001b[0mself\u001b[0m\u001b[0;34m.\u001b[0m\u001b[0m_lo\u001b[0m\u001b[0;34m)\u001b[0m \u001b[0;34m+\u001b[0m \u001b[0;36m1\u001b[0m\u001b[0;34m\u001b[0m\u001b[0;34m\u001b[0m\u001b[0m\n",
      "\u001b[0;31mValueError\u001b[0m: Reducing along axis <Bin (name=jet_pt) instance at 0x7f6bf3585bd0>: requested start 0.44 exceeds bin boundaries (use open slicing, e.g. x[:stop])"
     ]
    },
    {
     "data": {
      "image/png": "[encoded data removed]",
      "text/plain": [
       "<Figure size 576x504 with 2 Axes>"
      ]
     },
     "metadata": {
      "needs_background": "light"
     },
     "output_type": "display_data"
    }
   ],
   "source": [
    "plt.style.use([hep.style.ROOT, {'font.size': 16}])\n",
    "\n",
    "# plot options for data\n",
    "data_err_opts = {\n",
    "    'linestyle': 'none',\n",
    "    'marker': '.',\n",
    "    'markersize': 10.,\n",
    "    'color': 'k',\n",
    "    'elinewidth': 1,\n",
    "}\n",
    "\n",
    "# print(output.keys())\n",
    "# for i in range(0, len(output.keys())-1):\n",
    "fig, ((ax1),(rax1)) = plt.subplots(2, 1, figsize=(8, 7), gridspec_kw={\"height_ratios\": (3, 1)}, sharex=True)\n",
    "fig.subplots_adjust(hspace=.07)\n",
    "hl=output['jet_pt']\n",
    "# hb=output['jet_pt'][5]\n",
    "ixes = hl.axis('flav').identifiers()\n",
    "# print(ixes[0])\n",
    "# hl[0,4]\n",
    "num=hl[\"Data\"].integrate('jet_pt',slice(0.44,None))\n",
    "# print(num)\n",
    "num=num.rebin(\"flav\",hist.Bin(\"flav\", \"flav\", [0,4,5,6]))\n",
    "plot.plot1d(num,ax=ax1,legend_opts={'loc':1} ,overlay=\"flav\", stack=True)\n",
    "# plot.plot1d(\n",
    "#     hl[\"Data\"],\n",
    "#     overlay=\"flav\",\n",
    "#     stack=True,\n",
    "#     fill_opts={'alpha': .5, 'edgecolor': (0,0,0,0.3)}\n",
    "# )\n",
    "# print(hl['FatJet.hadronFlavour==5'])\n",
    "# print(hl.axis('hadronFlavour'))\n",
    "# ixes = hl.axis('hadronFlavour').identifiers()\n",
    "# print(ixes)\n",
    "# print(output['dataset'])\n",
    "# print(ixes)\n",
    "\n",
    "# hl=output['lfatjet_pt']\n",
    "# hc=output['cfatjet_pt']\n",
    "# hb=output['bfatjet_pt']\n",
    "# hdata=hl[\"Data\"]\n",
    "# hmc=hl[\"ttbar\"]\n",
    "# hdata.add(hb[\"Data\"])\n",
    "# hdata.add(hc[\"Data\"])\n",
    "# hmc.add(hc[\"ttbar\"])\n",
    "# hmc.add(hb[\"ttbar\"])\n",
    "# print(hc[\"genflavour\"])\n",
    "# plot.plot1d(sum(hl[\"ttbar\"],hc[\"ttbar\"],hb[\"ttbar\"]), ax=ax1, legend_opts={'loc':1}, density=False,stack=True, clear=False);\n",
    "# plot.plot1d(hdata, ax=ax1, legend_opts={'loc':1}, density=False, error_opts=data_err_opts, clear=False);\n",
    "\n",
    "# plot.plot1d(hl['genflavour'], ax=ax1, legend_opts={'loc':1}, density=False, error_opts={'color':'b'});\n",
    "\n",
    "# for i in range(0, len(output.keys())-1):\n",
    "#     fig, ((ax1),(rax1)) = plt.subplots(2, 1, figsize=(8, 7), gridspec_kw={\"height_ratios\": (3, 1)}, sharex=True)\n",
    "#     fig.subplots_adjust(hspace=.07)\n",
    "#     h1name = list(output.keys())[i]\n",
    "#     if any([h1name.startswith('cutflow')]): \n",
    "#         break\n",
    "#     print(h1name)\n",
    "#     h1 = output[h1name]\n",
    "#     dense = False \n",
    "#     np.seterr(divide='ignore')\n",
    "#     for ax, rax, h in zip([ax1], [rax1], [h1]):\n",
    "#         scales = {\n",
    "#             'ttbar': 1.0,\n",
    "#             'ttbarprime':1.0\n",
    "#         }\n",
    "#         h.scale(scales,axis='dataset')   \n",
    "#         notdata = re.compile('(?!Data)')\n",
    "#         if hasattr(h, 'dim'):\n",
    "#             plot.plot1d(h[notdata], ax=ax, legend_opts={'loc':1}, density=dense, stack=True, clear=False);\n",
    "#             plot.plot1d(h[\"Data\"], ax=ax, legend_opts={'loc':1}, density=dense, error_opts=data_err_opts, clear=False);\n",
    "#             # now we build the ratio plot\n",
    "#             plot.plotratio(\n",
    "#                    num=h[\"Data\"].sum(\"dataset\"),\n",
    "#                     denom=h[notdata].sum(\"dataset\"),\n",
    "#                     ax=rax,\n",
    "#                     error_opts=data_err_opts,\n",
    "#                     denom_fill_opts={},\n",
    "#                     guide_opts={},\n",
    "#                     unc='num'\n",
    "#                 )\n",
    "#         else:\n",
    "#             continue   \n",
    "\n",
    "#     for ax, rax, hname in zip([ax1], [rax1], [h1name]):\n",
    "#         at = AnchoredText(r\"$1\\mu, 1e$\"+\"\\n\"+\n",
    "#                            \"2+ jets\"+\"\\n\"+\n",
    "#                           r\"$|\\eta| < 2.5$\",\n",
    "#                            loc=2, frameon=False)\n",
    "#         ax.add_artist(at)\n",
    "#         ax.set_ylim(0.001, None)\n",
    "#         if (\"btag\" in hname) or hname.startswith(\"DeepCSV_trackDecayLenVal\"):\n",
    "#             ax.semilogy()\n",
    "#         rax.set_ylabel('Data/Pred.')\n",
    "#         rax.set_xlabel(hname)\n",
    "#         rax.set_ylim(0,2)\n",
    "#         ax.set_xlabel(None)\n",
    "# #     print(ax1)    \n",
    "#     hep.mpl_magic(ax1)\n"
   ]
  },
  {
   "cell_type": "code",
   "execution_count": null,
   "metadata": {},
   "outputs": [],
   "source": []
  },
  {
   "cell_type": "code",
   "execution_count": null,
   "metadata": {},
   "outputs": [],
   "source": []
  },
  {
   "cell_type": "code",
   "execution_count": null,
   "metadata": {},
   "outputs": [],
   "source": []
  }
 ],
 "metadata": {
  "kernelspec": {
   "display_name": "Python 3",
   "language": "python",
   "name": "python3"
  },
  "language_info": {
   "codemirror_mode": {
    "name": "ipython",
    "version": 3
   },
   "file_extension": ".py",
   "mimetype": "text/x-python",
   "name": "python",
   "nbconvert_exporter": "python",
   "pygments_lexer": "ipython3",
   "version": "3.7.10"
  },
  "metadata": {
   "interpreter": {
    "hash": "31f2aee4e71d21fbe5cf8b01ff0e069b9275f58929596ceb00d14d90e3e16cd6"
   }
  }
 },
 "nbformat": 4,
 "nbformat_minor": 4
}
